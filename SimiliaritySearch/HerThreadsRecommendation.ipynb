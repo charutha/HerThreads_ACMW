{
  "cells": [
    {
      "cell_type": "code",
      "execution_count": 190,
      "metadata": {
        "id": "95a599c2-126e-4914-9269-6ec7be75fee5"
      },
      "outputs": [],
      "source": [
        "#Importing Libraries"
      ],
      "id": "95a599c2-126e-4914-9269-6ec7be75fee5"
    },
    {
      "cell_type": "code",
      "execution_count": 1,
      "metadata": {
        "id": "1f21a459-a091-4ccb-8410-2f86b8b53626"
      },
      "outputs": [],
      "source": [
        "import numpy as np\n",
        "import pickle as pkl\n",
        "import tensorflow as tf\n",
        "from tensorflow.keras.applications.resnet50 import ResNet50,preprocess_input\n",
        "from tensorflow.keras.applications import VGG16\n",
        "from tensorflow.keras.preprocessing import image\n",
        "from tensorflow.keras.layers import GlobalMaxPool2D\n",
        "\n",
        "from sklearn.neighbors import NearestNeighbors\n",
        "import os\n",
        "from numpy.linalg import norm\n",
        "\n"
      ],
      "id": "1f21a459-a091-4ccb-8410-2f86b8b53626"
    },
    {
      "cell_type": "code",
      "execution_count": 6,
      "metadata": {
        "colab": {
          "base_uri": "https://localhost:8080/"
        },
        "id": "BVQ6FG2D6yYF",
        "outputId": "ce8447f7-991d-498d-ebe4-062cc0c28373"
      },
      "outputs": [
        {
          "output_type": "stream",
          "name": "stdout",
          "text": [
            "Done\n"
          ]
        }
      ],
      "source": [
        "from zipfile import ZipFile\n",
        "file_name = '/content/images.zip'\n",
        "\n",
        "with ZipFile(file_name, 'r') as zip:\n",
        "  zip.extractall()\n",
        "  print('Done')"
      ],
      "id": "BVQ6FG2D6yYF"
    },
    {
      "cell_type": "code",
      "execution_count": 3,
      "metadata": {
        "id": "3d71d2d4-f947-4ff9-9537-ede9d690ad85"
      },
      "outputs": [],
      "source": [
        "img_file='/content/images'\n",
        "filenames = []\n",
        "for file in os.listdir(img_file):\n",
        "  filenames.append(os.path.join(img_file,file))\n"
      ],
      "id": "3d71d2d4-f947-4ff9-9537-ede9d690ad85"
    },
    {
      "cell_type": "code",
      "execution_count": 4,
      "metadata": {
        "colab": {
          "base_uri": "https://localhost:8080/"
        },
        "id": "bc62c11d-334a-45ba-a011-025a81e83074",
        "outputId": "2eece362-096c-45ef-eae4-564d921a6ad9"
      },
      "outputs": [
        {
          "output_type": "execute_result",
          "data": {
            "text/plain": [
              "3198"
            ]
          },
          "metadata": {},
          "execution_count": 4
        }
      ],
      "source": [
        "len(filenames)"
      ],
      "id": "bc62c11d-334a-45ba-a011-025a81e83074"
    },
    {
      "cell_type": "code",
      "source": [
        "#trial\n",
        "import os\n",
        "import numpy as np\n",
        "from PIL import Image\n",
        "import tensorflow as tf\n",
        "from tensorflow.keras.layers import Input, Conv2D, MaxPooling2D, UpSampling2D\n",
        "from tensorflow.keras.models import Model\n",
        "from sklearn.neighbors import NearestNeighbors\n",
        "\n",
        "# Step 1: Load and preprocess the image data\n",
        "img_file = '/content/images'\n",
        "filenames = []\n",
        "images = []\n",
        "\n",
        "for file in os.listdir(img_file):\n",
        "    filenames.append(os.path.join(img_file, file))\n",
        "    img = Image.open(os.path.join(img_file, file)).convert('RGB')\n",
        "    img = img.resize((224, 224))  # Resize images to a consistent size\n",
        "    img = np.array(img) / 255.0  # Normalize pixel values\n",
        "    images.append(img)\n",
        "\n",
        "images = np.array(images)\n",
        "\n",
        "# Step 2: Define and train an autoencoder model\n",
        "input_img = Input(shape=(224, 224, 3))\n",
        "\n",
        "# Encoder\n",
        "x = Conv2D(32, (3, 3), activation='relu', padding='same')(input_img)\n",
        "x = MaxPooling2D((2, 2), padding='same')(x)\n",
        "x = Conv2D(16, (3, 3), activation='relu', padding='same')(x)\n",
        "encoded = MaxPooling2D((2, 2), padding='same')(x)\n",
        "\n",
        "# Decoder\n",
        "x = Conv2D(16, (3, 3), activation='relu', padding='same')(encoded)\n",
        "x = UpSampling2D((2, 2))(x)\n",
        "x = Conv2D(32, (3, 3), activation='relu', padding='same')(x)\n",
        "x = UpSampling2D((2, 2))(x)\n",
        "decoded = Conv2D(3, (3, 3), activation='sigmoid', padding='same')(x)\n",
        "\n",
        "autoencoder = Model(input_img, decoded)\n",
        "autoencoder.compile(optimizer='adam', loss='binary_crossentropy')\n",
        "\n",
        "autoencoder.fit(images, images, epochs=5, batch_size=16, shuffle=True)\n",
        "\n"
      ],
      "metadata": {
        "colab": {
          "base_uri": "https://localhost:8080/"
        },
        "id": "WFtAaUFn9e_q",
        "outputId": "873d9755-5aa8-430e-9e2a-a1318868007b"
      },
      "id": "WFtAaUFn9e_q",
      "execution_count": 1,
      "outputs": [
        {
          "output_type": "stream",
          "name": "stdout",
          "text": [
            "Epoch 1/5\n",
            "81/81 [==============================] - 149s 2s/step - loss: 0.3369\n",
            "Epoch 2/5\n",
            "81/81 [==============================] - 147s 2s/step - loss: 0.2293\n",
            "Epoch 3/5\n",
            "81/81 [==============================] - 147s 2s/step - loss: 0.2207\n",
            "Epoch 4/5\n",
            "81/81 [==============================] - 154s 2s/step - loss: 0.2183\n",
            "Epoch 5/5\n",
            "81/81 [==============================] - 148s 2s/step - loss: 0.2172\n"
          ]
        },
        {
          "output_type": "execute_result",
          "data": {
            "text/plain": [
              "<keras.src.callbacks.History at 0x7da019817d30>"
            ]
          },
          "metadata": {},
          "execution_count": 1
        }
      ]
    },
    {
      "cell_type": "code",
      "source": [
        "# Step 3: Use the trained model to encode images into a lower-dimensional space\n",
        "encoder_model = Model(input_img, encoded)\n",
        "encoded_images = encoder_model.predict(images)\n",
        "\n",
        "# Step 4: Calculate similarities between the encoded representations of images\n",
        "#neighbors = NearestNeighbors(n_neighbors=5, algorithm='brute', metric='euclidean')\n",
        "#neighbors.fit(encoded_images)\n",
        "# Reshape encoded_images to 2D array\n",
        "\n",
        "encoded_images_2d = encoded_images.reshape(encoded_images.shape[0], -1)\n",
        "\n",
        "# Step 4: Calculate similarities between the encoded representations of images\n",
        "neighbors = NearestNeighbors(n_neighbors=5, algorithm='brute', metric='euclidean')\n",
        "neighbors.fit(encoded_images_2d)\n",
        "\n",
        "\n",
        "\n"
      ],
      "metadata": {
        "colab": {
          "base_uri": "https://localhost:8080/",
          "height": 92
        },
        "id": "8H3IiTlTE-ov",
        "outputId": "b3c28142-82aa-469e-b857-6d014506da89"
      },
      "id": "8H3IiTlTE-ov",
      "execution_count": 27,
      "outputs": [
        {
          "output_type": "stream",
          "name": "stdout",
          "text": [
            "41/41 [==============================] - 17s 398ms/step\n"
          ]
        },
        {
          "output_type": "execute_result",
          "data": {
            "text/plain": [
              "NearestNeighbors(algorithm='brute', metric='euclidean')"
            ],
            "text/html": [
              "<style>#sk-container-id-1 {color: black;background-color: white;}#sk-container-id-1 pre{padding: 0;}#sk-container-id-1 div.sk-toggleable {background-color: white;}#sk-container-id-1 label.sk-toggleable__label {cursor: pointer;display: block;width: 100%;margin-bottom: 0;padding: 0.3em;box-sizing: border-box;text-align: center;}#sk-container-id-1 label.sk-toggleable__label-arrow:before {content: \"▸\";float: left;margin-right: 0.25em;color: #696969;}#sk-container-id-1 label.sk-toggleable__label-arrow:hover:before {color: black;}#sk-container-id-1 div.sk-estimator:hover label.sk-toggleable__label-arrow:before {color: black;}#sk-container-id-1 div.sk-toggleable__content {max-height: 0;max-width: 0;overflow: hidden;text-align: left;background-color: #f0f8ff;}#sk-container-id-1 div.sk-toggleable__content pre {margin: 0.2em;color: black;border-radius: 0.25em;background-color: #f0f8ff;}#sk-container-id-1 input.sk-toggleable__control:checked~div.sk-toggleable__content {max-height: 200px;max-width: 100%;overflow: auto;}#sk-container-id-1 input.sk-toggleable__control:checked~label.sk-toggleable__label-arrow:before {content: \"▾\";}#sk-container-id-1 div.sk-estimator input.sk-toggleable__control:checked~label.sk-toggleable__label {background-color: #d4ebff;}#sk-container-id-1 div.sk-label input.sk-toggleable__control:checked~label.sk-toggleable__label {background-color: #d4ebff;}#sk-container-id-1 input.sk-hidden--visually {border: 0;clip: rect(1px 1px 1px 1px);clip: rect(1px, 1px, 1px, 1px);height: 1px;margin: -1px;overflow: hidden;padding: 0;position: absolute;width: 1px;}#sk-container-id-1 div.sk-estimator {font-family: monospace;background-color: #f0f8ff;border: 1px dotted black;border-radius: 0.25em;box-sizing: border-box;margin-bottom: 0.5em;}#sk-container-id-1 div.sk-estimator:hover {background-color: #d4ebff;}#sk-container-id-1 div.sk-parallel-item::after {content: \"\";width: 100%;border-bottom: 1px solid gray;flex-grow: 1;}#sk-container-id-1 div.sk-label:hover label.sk-toggleable__label {background-color: #d4ebff;}#sk-container-id-1 div.sk-serial::before {content: \"\";position: absolute;border-left: 1px solid gray;box-sizing: border-box;top: 0;bottom: 0;left: 50%;z-index: 0;}#sk-container-id-1 div.sk-serial {display: flex;flex-direction: column;align-items: center;background-color: white;padding-right: 0.2em;padding-left: 0.2em;position: relative;}#sk-container-id-1 div.sk-item {position: relative;z-index: 1;}#sk-container-id-1 div.sk-parallel {display: flex;align-items: stretch;justify-content: center;background-color: white;position: relative;}#sk-container-id-1 div.sk-item::before, #sk-container-id-1 div.sk-parallel-item::before {content: \"\";position: absolute;border-left: 1px solid gray;box-sizing: border-box;top: 0;bottom: 0;left: 50%;z-index: -1;}#sk-container-id-1 div.sk-parallel-item {display: flex;flex-direction: column;z-index: 1;position: relative;background-color: white;}#sk-container-id-1 div.sk-parallel-item:first-child::after {align-self: flex-end;width: 50%;}#sk-container-id-1 div.sk-parallel-item:last-child::after {align-self: flex-start;width: 50%;}#sk-container-id-1 div.sk-parallel-item:only-child::after {width: 0;}#sk-container-id-1 div.sk-dashed-wrapped {border: 1px dashed gray;margin: 0 0.4em 0.5em 0.4em;box-sizing: border-box;padding-bottom: 0.4em;background-color: white;}#sk-container-id-1 div.sk-label label {font-family: monospace;font-weight: bold;display: inline-block;line-height: 1.2em;}#sk-container-id-1 div.sk-label-container {text-align: center;}#sk-container-id-1 div.sk-container {/* jupyter's `normalize.less` sets `[hidden] { display: none; }` but bootstrap.min.css set `[hidden] { display: none !important; }` so we also need the `!important` here to be able to override the default hidden behavior on the sphinx rendered scikit-learn.org. See: https://github.com/scikit-learn/scikit-learn/issues/21755 */display: inline-block !important;position: relative;}#sk-container-id-1 div.sk-text-repr-fallback {display: none;}</style><div id=\"sk-container-id-1\" class=\"sk-top-container\"><div class=\"sk-text-repr-fallback\"><pre>NearestNeighbors(algorithm=&#x27;brute&#x27;, metric=&#x27;euclidean&#x27;)</pre><b>In a Jupyter environment, please rerun this cell to show the HTML representation or trust the notebook. <br />On GitHub, the HTML representation is unable to render, please try loading this page with nbviewer.org.</b></div><div class=\"sk-container\" hidden><div class=\"sk-item\"><div class=\"sk-estimator sk-toggleable\"><input class=\"sk-toggleable__control sk-hidden--visually\" id=\"sk-estimator-id-1\" type=\"checkbox\" checked><label for=\"sk-estimator-id-1\" class=\"sk-toggleable__label sk-toggleable__label-arrow\">NearestNeighbors</label><div class=\"sk-toggleable__content\"><pre>NearestNeighbors(algorithm=&#x27;brute&#x27;, metric=&#x27;euclidean&#x27;)</pre></div></div></div></div></div>"
            ]
          },
          "metadata": {},
          "execution_count": 27
        }
      ]
    },
    {
      "cell_type": "code",
      "source": [
        "# Step 5: Find similar images based on the input image\n",
        "input_image_index = 2  # Index of the input image in the filenames list\n",
        "#input_image=\"/content/images/11777.jpg\"\n",
        "input_image_encoded = encoder_model.predict(np.expand_dims(images[input_image_index], axis=0))\n",
        "#input_image_encoded = encoder_model.predict(np.expand_dims(input_image, axis=0))\n",
        "\n",
        "input_image_encoded_flat = input_image_encoded.reshape(1, -1)\n",
        "distances, indices = neighbors.kneighbors(input_image_encoded_flat)\n",
        "\n",
        "print(\"Similar images to input image:\")\n",
        "for i, index in enumerate(indices[0]):\n",
        "    print(filenames[index])"
      ],
      "metadata": {
        "colab": {
          "base_uri": "https://localhost:8080/"
        },
        "id": "e7I8ls5HLTL8",
        "outputId": "a12b798b-caaf-43a4-8c73-d7114e63db11"
      },
      "id": "e7I8ls5HLTL8",
      "execution_count": 30,
      "outputs": [
        {
          "output_type": "stream",
          "name": "stdout",
          "text": [
            "1/1 [==============================] - 0s 42ms/step\n",
            "Similar images to input image:\n",
            "/content/images/11567.jpg\n",
            "/content/images/11574.jpg\n",
            "/content/images/11541.jpg\n",
            "/content/images/11565.jpg\n",
            "/content/images/11536.jpg\n"
          ]
        }
      ]
    },
    {
      "cell_type": "code",
      "source": [
        "from keras.preprocessing import image\n",
        "input_image_path = \"/content/images/10047.jpg\"\n",
        "input_image = image.load_img(input_image_path, target_size=(224, 224))\n",
        "input_image_array = image.img_to_array(input_image)\n",
        "input_image_array = np.expand_dims(input_image_array, axis=0)  # Add batch dimension\n",
        "input_image_array = input_image_array / 255.0  # Normalize pixel values\n",
        "\n",
        "# Predict the encoded representation of the input image\n",
        "input_image_encoded = encoder_model.predict(input_image_array)\n",
        "\n",
        "# Reshape encoded image to 1D array\n",
        "input_image_encoded_flat = input_image_encoded.flatten()\n",
        "\n",
        "# Calculate similarities between the encoded representations of images\n",
        "distances, indices = neighbors.kneighbors([input_image_encoded_flat])\n",
        "\n",
        "output=[]\n",
        "# Print similar images\n",
        "print(\"Similar images to input image:\")\n",
        "for i, index in enumerate(indices[0]):\n",
        "    print(filenames[index])\n",
        "    output.append(str(filenames[index]))"
      ],
      "metadata": {
        "colab": {
          "base_uri": "https://localhost:8080/"
        },
        "id": "whu7KX8nLRHr",
        "outputId": "48893e38-c4f3-4066-ebf9-7e96954ae104"
      },
      "id": "whu7KX8nLRHr",
      "execution_count": 40,
      "outputs": [
        {
          "output_type": "stream",
          "name": "stdout",
          "text": [
            "1/1 [==============================] - 0s 61ms/step\n",
            "Similar images to input image:\n",
            "/content/images/10047.jpg\n",
            "/content/images/10991.jpg\n",
            "/content/images/10048.jpg\n",
            "/content/images/10439.jpg\n",
            "/content/images/10884.jpg\n"
          ]
        }
      ]
    },
    {
      "cell_type": "code",
      "source": [
        "from IPython.display import Image\n",
        "print(filenames[0])"
      ],
      "metadata": {
        "colab": {
          "base_uri": "https://localhost:8080/"
        },
        "id": "2wvT4yuiKA8A",
        "outputId": "c87eec0a-2816-4c4f-97aa-7c86691c0dfa"
      },
      "id": "2wvT4yuiKA8A",
      "execution_count": 41,
      "outputs": [
        {
          "output_type": "stream",
          "name": "stdout",
          "text": [
            "/content/images/11035.jpg\n"
          ]
        }
      ]
    },
    {
      "cell_type": "code",
      "source": [
        "\n",
        "Image(output[0])\n",
        "\n"
      ],
      "metadata": {
        "colab": {
          "base_uri": "https://localhost:8080/",
          "height": 97
        },
        "id": "I1lrmv-LE0Ge",
        "outputId": "6419365f-41e5-4c35-a4b0-234ec491928b"
      },
      "id": "I1lrmv-LE0Ge",
      "execution_count": 42,
      "outputs": [
        {
          "output_type": "execute_result",
          "data": {
            "image/jpeg": "[encoded data removed]",
            "text/plain": [
              "<IPython.core.display.Image object>"
            ]
          },
          "metadata": {},
          "execution_count": 42
        }
      ]
    },
    {
      "cell_type": "code",
      "source": [
        "Image(output[1])\n",
        "\n"
      ],
      "metadata": {
        "colab": {
          "base_uri": "https://localhost:8080/",
          "height": 97
        },
        "id": "6iE-eAJeJze_",
        "outputId": "21caaccf-04b5-4f18-dd6d-d363556b3e1c"
      },
      "id": "6iE-eAJeJze_",
      "execution_count": 43,
      "outputs": [
        {
          "output_type": "execute_result",
          "data": {
            "image/jpeg": "[encoded data removed]",
            "text/plain": [
              "<IPython.core.display.Image object>"
            ]
          },
          "metadata": {},
          "execution_count": 43
        }
      ]
    },
    {
      "cell_type": "code",
      "source": [
        "Image(output[2])\n"
      ],
      "metadata": {
        "colab": {
          "base_uri": "https://localhost:8080/",
          "height": 97
        },
        "id": "LZKU4chvJ22U",
        "outputId": "29f9d9d2-00e9-4251-f96b-f3d427f536a6"
      },
      "id": "LZKU4chvJ22U",
      "execution_count": 44,
      "outputs": [
        {
          "output_type": "execute_result",
          "data": {
            "image/jpeg": "[encoded data removed]",
            "text/plain": [
              "<IPython.core.display.Image object>"
            ]
          },
          "metadata": {},
          "execution_count": 44
        }
      ]
    },
    {
      "cell_type": "code",
      "source": [
        "Image(output[3])\n"
      ],
      "metadata": {
        "colab": {
          "base_uri": "https://localhost:8080/",
          "height": 97
        },
        "id": "YUb1WzchJ5F5",
        "outputId": "f1003af5-813d-4c74-f368-cced9e878cb4"
      },
      "id": "YUb1WzchJ5F5",
      "execution_count": 45,
      "outputs": [
        {
          "output_type": "execute_result",
          "data": {
            "image/jpeg": "[encoded data removed]",
            "text/plain": [
              "<IPython.core.display.Image object>"
            ]
          },
          "metadata": {},
          "execution_count": 45
        }
      ]
    },
    {
      "cell_type": "code",
      "source": [
        "Image(output[4])"
      ],
      "metadata": {
        "colab": {
          "base_uri": "https://localhost:8080/",
          "height": 97
        },
        "id": "8unGB7sEJ6l7",
        "outputId": "3140e5cc-6805-490e-86b8-6e601a493451"
      },
      "id": "8unGB7sEJ6l7",
      "execution_count": 46,
      "outputs": [
        {
          "output_type": "execute_result",
          "data": {
            "image/jpeg": "[encoded data removed]",
            "text/plain": [
              "<IPython.core.display.Image object>"
            ]
          },
          "metadata": {},
          "execution_count": 46
        }
      ]
    }
  ],
  "metadata": {
    "accelerator": "GPU",
    "colab": {
      "gpuType": "T4",
      "provenance": []
    },
    "kernelspec": {
      "display_name": "Python 3",
      "name": "python3"
    },
    "language_info": {
      "codemirror_mode": {
        "name": "ipython",
        "version": 3
      },
      "file_extension": ".py",
      "mimetype": "text/x-python",
      "name": "python",
      "nbconvert_exporter": "python",
      "pygments_lexer": "ipython3",
      "version": "3.11.4"
    }
  },
  "nbformat": 4,
  "nbformat_minor": 5
}