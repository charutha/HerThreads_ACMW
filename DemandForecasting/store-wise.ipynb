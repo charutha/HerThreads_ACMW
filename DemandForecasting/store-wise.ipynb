{
 "cells": [
  {
   "cell_type": "code",
   "execution_count": 18,
   "metadata": {},
   "outputs": [],
   "source": [
    "import pandas as pd\n",
    "import math\n",
    "df=pd.read_csv('month-wise.csv')\n",
    "\n",
    "df['sales'] = df['sales'].apply(lambda x: math.ceil(x))\n",
    "df.to_csv('month-wise.csv',index=False)"
   ]
  },
  {
   "cell_type": "code",
   "execution_count": 19,
   "metadata": {},
   "outputs": [],
   "source": [
    "df2=df[df['store']==1]\n",
    "df2=df2.sort_values(by='sales',ascending=False)\n",
    "df2.drop(columns=['store'],inplace=True)\n",
    "df2.to_html('store1.html')"
   ]
  },
  {
   "cell_type": "code",
   "execution_count": 20,
   "metadata": {},
   "outputs": [],
   "source": [
    "df3=df[df['store']==2]\n",
    "df3=df3.sort_values(by='sales',ascending=False)\n",
    "df3.drop(columns=['store'],inplace=True)\n",
    "df3.to_html('store2.html')\n"
   ]
  },
  {
   "cell_type": "code",
   "execution_count": 21,
   "metadata": {},
   "outputs": [],
   "source": [
    "df4=df[df['store']==3]\n",
    "df4=df4.sort_values(by='sales',ascending=False)\n",
    "df4.drop(columns=['store'],inplace=True)\n",
    "df4.to_html('store3.html')\n"
   ]
  },
  {
   "cell_type": "code",
   "execution_count": 22,
   "metadata": {},
   "outputs": [],
   "source": [
    "df5=df[df['store']==4]\n",
    "df5=df5.sort_values(by='sales',ascending=False)\n",
    "df5.drop(columns=['store'],inplace=True)\n",
    "df5.to_html('store4.html')\n"
   ]
  },
  {
   "cell_type": "code",
   "execution_count": 23,
   "metadata": {},
   "outputs": [],
   "source": [
    "df6=df[df['store']==5]\n",
    "df6=df6.sort_values(by='sales',ascending=False)\n",
    "df6.drop(columns=['store'],inplace=True)\n",
    "df6.to_html('store5.html')\n"
   ]
  }
 ],
 "metadata": {
  "kernelspec": {
   "display_name": "Python 3",
   "language": "python",
   "name": "python3"
  },
  "language_info": {
   "codemirror_mode": {
    "name": "ipython",
    "version": 3
   },
   "file_extension": ".py",
   "mimetype": "text/x-python",
   "name": "python",
   "nbconvert_exporter": "python",
   "pygments_lexer": "ipython3",
   "version": "3.12.1"
  }
 },
 "nbformat": 4,
 "nbformat_minor": 2
}
